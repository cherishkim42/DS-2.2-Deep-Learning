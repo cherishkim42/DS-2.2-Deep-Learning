{
 "cells": [
  {
   "cell_type": "markdown",
   "metadata": {},
   "source": [
    "## Deep Learning Glossary\n",
    "\n",
    "We will learn about deep learning components and terminologies"
   ]
  },
  {
   "cell_type": "markdown",
   "metadata": {},
   "source": [
    "### Activation Function\n",
    "\n",
    "- To allow Neural Networks to learn complex decision boundaries \n",
    "\n",
    "- we apply a nonlinear activation function to some of its layers\n",
    "\n",
    "- Commonly used functions include:\n",
    "\n",
    "    - sigmoid, tanh, ReLU (Rectified Linear Unit) and variants of these."
   ]
  },
  {
   "cell_type": "code",
   "execution_count": null,
   "metadata": {},
   "outputs": [],
   "source": [
    "model = Sequential()\n",
    "model.add(Dense(1, activation='sigmoid', input_dim=x.shape[1]))"
   ]
  },
  {
   "cell_type": "markdown",
   "metadata": {},
   "source": [
    "### Loss Function (Cost Function)\n",
    "\n",
    "- When we build a neural network, the neural network tries to predict the output as close as possible to the actual value\n",
    "\n",
    "- For prediction type problem the cost functions are:\n",
    "\n",
    "    - MSE, MAE, ...\n",
    "    - `model.compile(optimizer='rmsprop', loss='mse')`\n",
    "    \n",
    "- For classification type problem the cost functions are:\n",
    "\n",
    "    - Categorical Cross-Entropy, Binary Cross-Entropy\n",
    "    - `model.compile(optimizer='rmsprop', loss='binary_crossentropy')`\n"
   ]
  },
  {
   "cell_type": "markdown",
   "metadata": {},
   "source": [
    "### Algorithms (or Optimization Methods) to Minimize Error\n",
    "\n",
    "- Gradient Descent: To think of it intuitively, while climbing down a hill you should take small steps and walk down instead of just jumping down at once. Therefore, what we do is, if we start from a point x, we move down a little i.e. delta h, and update our position to x-delta h and we keep doing the same till we reach the bottom\n",
    "\n",
    "- Stochastic gradient descent (SGD)\n",
    "\n",
    "- Learning rate: Both GD and SGD need learning rate to adjust the new weight \n",
    "\n",
    "    - w1_new= w1 + (learning rate)* (derivative of cost function wrt w1)\n",
    "    \n",
    "    - RMSprop, Adagrad, Adadelta, Adam, Adamax, Nadam\n"
   ]
  },
  {
   "cell_type": "markdown",
   "metadata": {},
   "source": [
    "### Dropout\n",
    "\n",
    "- Dropout is a regularization technique for Neural Networks that prevents overfitting\n",
    "\n",
    "- `model.add(Dropout(0.25))`\n",
    "\n",
    "<img src=\"dropout.png\" width=\"500\" height=\"500\">"
   ]
  },
  {
   "cell_type": "markdown",
   "metadata": {},
   "source": [
    "### Epoch and Batch\n",
    "\n",
    "- Epoch is when an ENTIRE dataset is passed forward and backward through the neural network\n",
    "\n",
    "    - `model.fit(x, y, epochs=10, validation_data=(x_val, y_val))`\n",
    "    \n",
    "- Batch is number of samples per gradient update\n",
    "\n",
    "    - `model.fit(x, y, batch_size=2, epochs=10)`"
   ]
  },
  {
   "cell_type": "markdown",
   "metadata": {},
   "source": [
    "## Activity: Apply NN with Keras on iris data\n",
    "\n",
    "- Use 100 samples for training and 50 samples for validation\n",
    "\n",
    "- Set the value of epoch to 5 \n",
    "\n",
    "- Change the `batch_size` value from 1 to 100 and plot the accuracy versus batch_size\n",
    "\n",
    "- Change the `verbose` to 0, 1 and 2"
   ]
  },
  {
   "cell_type": "markdown",
   "metadata": {},
   "source": [
    "## Activity: Apply Lambda Layer in Keras and test how it works\n",
    "\n",
    "- Write a code that takes a array with size 3 and apply a Lambda Layer in Keras to double the arrays elements\n"
   ]
  },
  {
   "cell_type": "code",
   "execution_count": null,
   "metadata": {},
   "outputs": [],
   "source": [
    "from keras.layers import Lambda, Input\n",
    "from keras.models import Model\n",
    "\n",
    "import numpy as np\n",
    "\n",
    "input = Input(shape=(3,))\n",
    "double = Lambda(lambda x: 2 * x)(input)\n",
    "\n",
    "model = Model(input=input, output=double)\n",
    "model.compile(optimizer='sgd', loss='mse')\n",
    "\n",
    "data = np.array([[5, 12, 1]])\n",
    "print(model.predict(data))"
   ]
  },
  {
   "cell_type": "markdown",
   "metadata": {},
   "source": [
    "### Batch Normalization\n",
    "\n",
    "- Batch Normalization is a technique that normalizes the data even at hidden layers \n",
    "\n",
    "- `model.add(BatchNormalization())`\n",
    "\n",
    "<img src=\"batch_normalization.png\" width=\"300\" height=\"300\">"
   ]
  },
  {
   "cell_type": "code",
   "execution_count": null,
   "metadata": {},
   "outputs": [],
   "source": []
  }
 ],
 "metadata": {
  "kernelspec": {
   "display_name": "Python 3",
   "language": "python",
   "name": "python3"
  },
  "language_info": {
   "codemirror_mode": {
    "name": "ipython",
    "version": 3
   },
   "file_extension": ".py",
   "mimetype": "text/x-python",
   "name": "python",
   "nbconvert_exporter": "python",
   "pygments_lexer": "ipython3",
   "version": "3.6.5"
  }
 },
 "nbformat": 4,
 "nbformat_minor": 2
}
