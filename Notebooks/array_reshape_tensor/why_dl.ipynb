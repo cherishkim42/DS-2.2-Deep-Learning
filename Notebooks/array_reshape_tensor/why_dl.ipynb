{
 "cells": [
  {
   "cell_type": "markdown",
   "metadata": {},
   "source": [
    "## Why Neural Net and Deep Learning?"
   ]
  },
  {
   "cell_type": "markdown",
   "metadata": {},
   "source": [
    "- Deep Learning has more freedom, so can obtain more sophisticated decision region for classification problem for example\n",
    "\n",
    "- Deep Learning accepts non-tabular data, for example images, voice, text data\n",
    "\n",
    "- Deep Learning can extract features, ML could not\n",
    "\n",
    "- We can build two DL models for two diffrent but related dataset and connect their layers for providing decision (classification for example)\n",
    "\n",
    "- The more data we have , the better performance usually we can get from DL model\n",
    "\n",
    "<img src=\"AI_ML_DL.png\" width=\"800\" height=\"800\">"
   ]
  },
  {
   "cell_type": "markdown",
   "metadata": {},
   "source": [
    "## Lets watch this:\n",
    "\n",
    "- https://www.youtube.com/watch?v=dafuAz_CV7Q"
   ]
  },
  {
   "cell_type": "code",
   "execution_count": null,
   "metadata": {},
   "outputs": [],
   "source": []
  }
 ],
 "metadata": {
  "kernelspec": {
   "display_name": "Python 3",
   "language": "python",
   "name": "python3"
  },
  "language_info": {
   "codemirror_mode": {
    "name": "ipython",
    "version": 3
   },
   "file_extension": ".py",
   "mimetype": "text/x-python",
   "name": "python",
   "nbconvert_exporter": "python",
   "pygments_lexer": "ipython3",
   "version": "3.6.5"
  }
 },
 "nbformat": 4,
 "nbformat_minor": 2
}
