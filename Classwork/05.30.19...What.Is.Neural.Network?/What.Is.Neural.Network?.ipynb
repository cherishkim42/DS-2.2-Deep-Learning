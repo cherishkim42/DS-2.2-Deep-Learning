{
 "cells": [
  {
   "cell_type": "markdown",
   "metadata": {},
   "source": [
    "# 🤔 What *is* Neural Network? 🤔"
   ]
  },
  {
   "cell_type": "markdown",
   "metadata": {},
   "source": [
    "# 📚 Intro\n",
    "Source on Neural Networks: https://enlight.nyc/projects/neural-network/\n",
    "\n",
    "**Learning objectives:**\n",
    "* Define *neural network* (or NN)\n",
    "* Learn **forward** and **backward propagation** in NN\n",
    "* Implement an NN entirely in ```numpy```"
   ]
  },
  {
   "cell_type": "markdown",
   "metadata": {},
   "source": [
    "# 🙇‍ Define *neural network*\n",
    "A computational system inspired by the **structure**, **processing method**, and **learning ability** similar to our biological brains!\n",
    "\n",
    "### Characteristics of Artificial Neural Networks\n",
    "* **Many** very simple neuron-like processing elements\n",
    "* **Many** weighted connection between said elements\n",
    "* Distributed representation of knowledge over the connections\n",
    "* Knowledge is acquired by network through a learning process\n",
    "\n",
    "### *Perceptron*:\n",
    "* Anything that takes **multiple** inputs and produces **one** output\n",
    "\n",
    "### *Multi-Layer Perceptron* (MLP):\n",
    "* A stack of **perceptrons** nested together in what seems to be a roughly organized web."
   ]
  },
  {
   "cell_type": "markdown",
   "metadata": {},
   "source": [
    "# 💨 Forward and backward propagation in NN\n",
    "First off, a **good source**: https://towardsdatascience.com/coding-neural-network-forward-propagation-and-backpropagtion-ccf8cf369f76\n",
    "\n",
    "### *Forward propagation:*\n",
    "* The **estimation process** during which NN\n",
    "    * takes several **inputs**,\n",
    "    * **processes** these inputs through multiple neurons from **multiple hidden layers**, and then\n",
    "    * **returns** the result using an **output layer.**\n",
    "    \n",
    "### *Backward propagation:*\n",
    "* The **assignation of weight to neurons**, such that\n",
    "    * the NN total error (or **cost function**) is minimized.\n",
    "* After **forward propagation**,\n",
    "    * the **result** is compared to the **true output.**\n",
    "    * We want the NN's output to be as close to the true output as possible, so\n",
    "    * that's when **backward propagation** takes place!"
   ]
  },
  {
   "cell_type": "markdown",
   "metadata": {},
   "source": [
    "# 🧠 Implement an NN using ```numpy```!\n",
    "A source: https://www.analyticsvidhya.com/blog/2017/05/neural-network-from-scratch-in-python-and-r/\n",
    "### Assume the following:\n",
    "* We want to build and train (*obtain the weights*) of a **Multi-Layer Perceptron** (MLP)\n",
    "    * such that the given input, ```X=np.array([[1,0,1,0],[1,0,1,1],[0,1,0,1]])```,\n",
    "    * gives us this desired output: ```y=np.array([[1],[1],[0]])```\n",
    "* We have only **one hidden layer** (with **three neurons**),\n",
    "    * and the **activation function** for each **perceptron** is **sigmoid**."
   ]
  },
  {
   "cell_type": "code",
   "execution_count": 1,
   "metadata": {},
   "outputs": [],
   "source": [
    "import numpy as np"
   ]
  },
  {
   "cell_type": "markdown",
   "metadata": {},
   "source": [
    "### Instantiate the input array & (true, not NN's) output array."
   ]
  },
  {
   "cell_type": "code",
   "execution_count": 2,
   "metadata": {},
   "outputs": [],
   "source": [
    "X=np.array([[1,0,1,0],[1,0,1,1],[0,1,0,1]])\n",
    "y=np.array([[1],[1],[0]])"
   ]
  },
  {
   "cell_type": "markdown",
   "metadata": {},
   "source": [
    "### Sigmoid Function & Derivative of Sigmoid Function"
   ]
  },
  {
   "cell_type": "code",
   "execution_count": 3,
   "metadata": {},
   "outputs": [],
   "source": [
    "def sigmoid (x):\n",
    "    return 1/(1 + np.exp(-x))\n",
    "\n",
    "def derivatives_sigmoid(x):\n",
    "    return x * (1 - x)"
   ]
  },
  {
   "cell_type": "markdown",
   "metadata": {},
   "source": [
    "### Initialize alllll the variables!"
   ]
  },
  {
   "cell_type": "code",
   "execution_count": 4,
   "metadata": {},
   "outputs": [],
   "source": [
    "epoch=5000 #Setting training iterations\n",
    "lr=0.1 #Setting learning rate\n",
    "inputlayer_neurons = X.shape[1] #number of features in data set\n",
    "hiddenlayer_neurons = 3 #number of hidden layers neurons\n",
    "output_neurons = 1 #number of neurons at output layer"
   ]
  },
  {
   "cell_type": "markdown",
   "metadata": {},
   "source": [
    "### Initialize weight and bias"
   ]
  },
  {
   "cell_type": "code",
   "execution_count": 5,
   "metadata": {},
   "outputs": [],
   "source": [
    "wh=np.random.uniform(size=(inputlayer_neurons,hiddenlayer_neurons))\n",
    "bh=np.random.uniform(size=(1,hiddenlayer_neurons))\n",
    "wout=np.random.uniform(size=(hiddenlayer_neurons,output_neurons))\n",
    "bout=np.random.uniform(size=(1,output_neurons))"
   ]
  },
  {
   "cell_type": "markdown",
   "metadata": {},
   "source": [
    "### I can't pretend I know what's happening at this point, I'm so confused pls help. So this ```for``` loop is used for forward and backward propagation? Apparently? And it has like a million variables. Not comprehending rn. Is k. Will ask questions. Will deep delve into the Internet"
   ]
  },
  {
   "cell_type": "code",
   "execution_count": 6,
   "metadata": {},
   "outputs": [
    {
     "name": "stdout",
     "output_type": "stream",
     "text": [
      "[[0.98689883]\n",
      " [0.97241031]\n",
      " [0.03815065]]\n"
     ]
    }
   ],
   "source": [
    "for i in range(epoch):\n",
    "    #Forward Propogation\n",
    "    hidden_layer_input1=np.dot(X,wh)\n",
    "    hidden_layer_input=hidden_layer_input1 + bh\n",
    "    hiddenlayer_activations = sigmoid(hidden_layer_input)\n",
    "    output_layer_input1=np.dot(hiddenlayer_activations,wout)\n",
    "    output_layer_input= output_layer_input1+ bout\n",
    "    output = sigmoid(output_layer_input)\n",
    "\n",
    "    #Backward Propagation\n",
    "    D = y-output\n",
    "    slope_output_layer = derivatives_sigmoid(output)\n",
    "    slope_hidden_layer = derivatives_sigmoid(hiddenlayer_activations)\n",
    "    d_output = D * slope_output_layer\n",
    "    Error_at_hidden_layer = d_output.dot(wout.T)\n",
    "    d_hiddenlayer = Error_at_hidden_layer * slope_hidden_layer\n",
    "    wout += hiddenlayer_activations.T.dot(d_output) *lr\n",
    "    bout += np.sum(d_output, axis=0,keepdims=True) *lr\n",
    "    wh += X.T.dot(d_hiddenlayer) *lr\n",
    "    bh += np.sum(d_hiddenlayer, axis=0,keepdims=True) *lr\n",
    "\n",
    "print(output)"
   ]
  },
  {
   "cell_type": "markdown",
   "metadata": {},
   "source": [
    "# ❗️How would we update weights to minimize the error?\n",
    "\n",
    "### (1) DEFINE the cost function.\n",
    "* For our example here, the **MSE** (mean squared error) is our cost function:\n",
    "    * $E= \\frac{1}{2} ({\\bf y}_t - {\\bf y}_p)^T ({\\bf y}_t - {\\bf y}_p)$\n",
    "\n",
    "### (2) UPDATE the weight (${\\bf W}_i$ and ${\\bf W}_h$) such that the error, $E$, is minimized.\n",
    "* The most popular algorithm is **Gradient Descent**:\n",
    "    * ${\\bf W}_h = {\\bf W}_h + \\eta {\\partial E}/{\\partial {\\bf W}_h} $\n",
    "* For our example above, we can show that:\n",
    "    * ${\\partial E}/{\\partial {\\bf W}_h} = ({\\bf y}_t - {\\bf y}_p) {\\bf y}_p (1 - {\\bf y}_p)\\bf {h}$ , where\n",
    "    * ${\\bf h} = \\sigma({\\bf W}_i {\\bf x}_i + {\\bf b}_i)$\n",
    "* In the **actual code** above,\n",
    "    * $D = {\\bf y}_t - {\\bf y}_p$\n",
    "    * ${\\bf y}_p (1 - {\\bf y}_p)$ = ```slope_hidden_layer```\n",
    "    * $\\bf {h}$ = ```hiddenlayer_activations```"
   ]
  },
  {
   "cell_type": "code",
   "execution_count": null,
   "metadata": {},
   "outputs": [],
   "source": []
  }
 ],
 "metadata": {
  "kernelspec": {
   "display_name": "Python 3",
   "language": "python",
   "name": "python3"
  },
  "language_info": {
   "codemirror_mode": {
    "name": "ipython",
    "version": 3
   },
   "file_extension": ".py",
   "mimetype": "text/x-python",
   "name": "python",
   "nbconvert_exporter": "python",
   "pygments_lexer": "ipython3",
   "version": "3.7.1"
  }
 },
 "nbformat": 4,
 "nbformat_minor": 2
}
