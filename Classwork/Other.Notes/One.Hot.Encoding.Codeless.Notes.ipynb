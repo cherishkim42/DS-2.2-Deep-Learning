{
 "cells": [
  {
   "cell_type": "markdown",
   "metadata": {},
   "source": [
    "# #️⃣ One Hot Encoding #️⃣\n",
    "\n",
    "* the process by which **categorical variables** are **converted** to a form that can be used to **improve the predictions** of ML algorithms\n",
    "\n",
    "From my recollection, **one hot encoding** can be used with either:\n",
    "\n",
    "* ```sklearn```'s ```preprocessing.OneHotEncoder```, OR\n",
    "* ```keras```'s ```np_utils```."
   ]
  },
  {
   "cell_type": "markdown",
   "metadata": {},
   "source": [
    "# 📋 Suppose we have the following dataset:"
   ]
  },
  {
   "cell_type": "code",
   "execution_count": 1,
   "metadata": {},
   "outputs": [],
   "source": [
    "# ╔════════════╦═════════════════╦════════╗ \n",
    "# ║ CompanyName Categoricalvalue ║ Price  ║\n",
    "# ╠════════════╬═════════════════╣════════║ \n",
    "# ║ VW         ╬      1          ║ 20000  ║\n",
    "# ║ Acura      ╬      2          ║ 10011  ║\n",
    "# ║ Honda      ╬      3          ║ 50000  ║\n",
    "# ║ Honda      ╬      3          ║ 10000  ║\n",
    "# ╚════════════╩═════════════════╩════════╝"
   ]
  },
  {
   "cell_type": "markdown",
   "metadata": {},
   "source": [
    "* Categorical value assignment (also called **integer encoding**) can be done with ```sklearn```'s ```LabelEncoder```.\n",
    "* The **categorical value** represents the entry's **numerical value**.\n",
    "* If we had another company, say *Tesla*, its **categorical value** would be 4.\n",
    "* <font size=\"+2\">This is just one example. In general, categorical values start from ```0``` and go up to ```n-1``` categories.</font>\n",
    "\n",
    "\n",
    "### One hot encoding *dualizes categories into binary* with the following steps:</font>\n",
    "\n",
    "1. Start with sequence of **already integer encoded** data.\n",
    "1. Add that **same quantity** of new features\n",
    "1. **Each new feature is binary** and reflects whether the data point has the specific corresponding categorical value or not (i.e. **is_VW**, **is_Acura**, **is_Honda**)\n",
    "1. So for our example, **each data point** should have a single feature with a value of ```1``` -- and the rest of the features have values of ```0```.\n",
    "\n",
    "# After one hot encoding the first dataset:"
   ]
  },
  {
   "cell_type": "code",
   "execution_count": 2,
   "metadata": {},
   "outputs": [],
   "source": [
    "# ╔════╦══════╦══════╦════════╦\n",
    "# ║ VW ║ Acura║ Honda║ Price  ║\n",
    "# ╠════╬══════╬══════╬════════╬\n",
    "# ║ 1  ╬ 0    ╬ 0    ║ 20000  ║\n",
    "# ║ 0  ╬ 1    ╬ 0    ║ 10011  ║\n",
    "# ║ 0  ╬ 0    ╬ 1    ║ 50000  ║\n",
    "# ║ 0  ╬ 0    ╬ 1    ║ 10000  ║\n",
    "# ╚════╩══════╩══════╩════════╝"
   ]
  },
  {
   "cell_type": "markdown",
   "metadata": {},
   "source": [
    "# ❓ What's the big deal about one hot encoding? Why not just use *label encoding* when it can assign categorical values?\n",
    "\n",
    "* Because label encoding **assumes greater categorical value indicates superior category**. ❌\n",
    "    * So Honda > Acura > VW (*because 3 > 2 > 1*)... 😭 Errors aplenty will abound!\n",
    "* By taking the extra step to make the data **binary** with **one hot encoding**, we escape this trap & all its associated error-prone models!"
   ]
  },
  {
   "cell_type": "markdown",
   "metadata": {},
   "source": [
    "*Resources*:\n",
    "* Notes from this HackerNoon article: https://hackernoon.com/what-is-one-hot-encoding-why-and-when-do-you-have-to-use-it-e3c6186d008f\n",
    "* ```sklearn``` documentation: https://scikit-learn.org/stable/modules/generated/sklearn.preprocessing.OneHotEncoder.html\n",
    "* ```keras``` documentation: https://jovianlin.io/keras-one-hot-encode-decode-sequence-data/"
   ]
  },
  {
   "cell_type": "code",
   "execution_count": null,
   "metadata": {},
   "outputs": [],
   "source": []
  }
 ],
 "metadata": {
  "kernelspec": {
   "display_name": "Python 3",
   "language": "python",
   "name": "python3"
  },
  "language_info": {
   "codemirror_mode": {
    "name": "ipython",
    "version": 3
   },
   "file_extension": ".py",
   "mimetype": "text/x-python",
   "name": "python",
   "nbconvert_exporter": "python",
   "pygments_lexer": "ipython3",
   "version": "3.7.1"
  }
 },
 "nbformat": 4,
 "nbformat_minor": 2
}
