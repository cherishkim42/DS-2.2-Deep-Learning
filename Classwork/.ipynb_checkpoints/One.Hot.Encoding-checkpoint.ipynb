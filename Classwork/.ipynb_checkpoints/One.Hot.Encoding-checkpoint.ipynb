{
 "cells": [
  {
   "cell_type": "markdown",
   "metadata": {},
   "source": [
    "# #️⃣ One Hot Encoding #️⃣\n",
    "\n",
    "* <font size=\"+1\">the process by which **categorical variables** are **converted** to a form that can be used to **improve the predictions** of ML algorithms</size>\n",
    "\n",
    "From my recollection, **one hot encoding** can be used with either:\n",
    "\n",
    "* ```sklearn```'s ```preprocessing.OneHotEncoder```, OR\n",
    "* ```keras```'s ```np_utils```."
   ]
  },
  {
   "cell_type": "markdown",
   "metadata": {},
   "source": [
    "# 📋 Suppose we have the following dataset:"
   ]
  },
  {
   "cell_type": "code",
   "execution_count": 4,
   "metadata": {},
   "outputs": [],
   "source": [
    "# ╔════════════╦═════════════════╦════════╗ \n",
    "# ║ CompanyName Categoricalvalue ║ Price  ║\n",
    "# ╠════════════╬═════════════════╣════════║ \n",
    "# ║ VW         ╬      1          ║ 20000  ║\n",
    "# ║ Acura      ╬      2          ║ 10011  ║\n",
    "# ║ Honda      ╬      3          ║ 50000  ║\n",
    "# ║ Honda      ╬      3          ║ 10000  ║\n",
    "# ╚════════════╩═════════════════╩════════╝"
   ]
  },
  {
   "cell_type": "markdown",
   "metadata": {},
   "source": [
    "* Categorical value assignment can be done with ```sklearn```'s ```LabelEncoder```.\n",
    "* The **categorical value** represents the **numerical value** of the entry.\n",
    "* If we had another company, say *Tesla*, its **categorical value** would be 4.\n",
    "\n",
    "### This is just one example. In general, categorical values start from ```0``` and go up to ```n-1``` categories."
   ]
  },
  {
   "cell_type": "code",
   "execution_count": null,
   "metadata": {},
   "outputs": [],
   "source": []
  },
  {
   "cell_type": "code",
   "execution_count": null,
   "metadata": {},
   "outputs": [],
   "source": []
  },
  {
   "cell_type": "code",
   "execution_count": null,
   "metadata": {},
   "outputs": [],
   "source": []
  },
  {
   "cell_type": "code",
   "execution_count": null,
   "metadata": {},
   "outputs": [],
   "source": []
  },
  {
   "cell_type": "markdown",
   "metadata": {},
   "source": [
    "Notes from this HackerNoon article: https://hackernoon.com/what-is-one-hot-encoding-why-and-when-do-you-have-to-use-it-e3c6186d008f\n",
    "\n",
    "```sklearn``` documentation: https://scikit-learn.org/stable/modules/generated/sklearn.preprocessing.OneHotEncoder.html"
   ]
  },
  {
   "cell_type": "code",
   "execution_count": null,
   "metadata": {},
   "outputs": [],
   "source": []
  }
 ],
 "metadata": {
  "kernelspec": {
   "display_name": "Python 3",
   "language": "python",
   "name": "python3"
  },
  "language_info": {
   "codemirror_mode": {
    "name": "ipython",
    "version": 3
   },
   "file_extension": ".py",
   "mimetype": "text/x-python",
   "name": "python",
   "nbconvert_exporter": "python",
   "pygments_lexer": "ipython3",
   "version": "3.7.1"
  }
 },
 "nbformat": 4,
 "nbformat_minor": 2
}
