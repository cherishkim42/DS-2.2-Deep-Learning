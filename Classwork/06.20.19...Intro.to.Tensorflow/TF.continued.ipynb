{
 "cells": [
  {
   "cell_type": "code",
   "execution_count": 2,
   "metadata": {},
   "outputs": [
    {
     "name": "stdout",
     "output_type": "stream",
     "text": [
      "[21.0, 7.0]\n",
      "<class 'list'>\n"
     ]
    }
   ],
   "source": [
    "import tensorflow as tf\n",
    "\n",
    "input1 = tf.constant(3.0)\n",
    "input2 = tf.constant(2.0)\n",
    "input3 = tf.constant(5.0)\n",
    "intermed = tf.add(input2, input3)\n",
    "\n",
    "mul = tf.multiply(input1, intermed)\n",
    "with tf.Session() as sess:\n",
    "    result = sess.run([mul, intermed])\n",
    "    print(result)\n",
    "    print(type(result))"
   ]
  },
  {
   "cell_type": "markdown",
   "metadata": {},
   "source": [
    "The following **WILL NOT** return \"7\" because ```tf.constant(x.0)``` is just **building** and asserting constants -- the value does not actually matter during this building process"
   ]
  },
  {
   "cell_type": "code",
   "execution_count": 3,
   "metadata": {},
   "outputs": [
    {
     "name": "stdout",
     "output_type": "stream",
     "text": [
      "Tensor(\"Add:0\", shape=(), dtype=float32)\n"
     ]
    }
   ],
   "source": [
    "print(intermed)"
   ]
  },
  {
   "cell_type": "markdown",
   "metadata": {},
   "source": [
    "```python\n",
    "input1 = tf.placeholder(tf.float32)\n",
    "input2 = tf.placeholder(tf.float32)\n",
    "output = tf.multiply(input1, input2)\n",
    "\n",
    "with tf.Session() as sess:\n",
    "    print(sess.run(output, feed_dict={input1: [7.], input2: [2.]}))\n",
    "```\n",
    "\n",
    "same as\n",
    "\n",
    "```python\n",
    "input1 = tf.constant(7.0)\n",
    "input2 = tf.constant(2.0)\n",
    "mul = tf.multiply(input1, input2)\n",
    "\n",
    "with tf.Session() as sess:\n",
    "    result = sess.run(output)\n",
    "```"
   ]
  },
  {
   "cell_type": "markdown",
   "metadata": {},
   "source": [
    "### from the video Milad played in class\n",
    "\n",
    "https://www.youtube.com/watch?v=lV09_8432VA&t=551s"
   ]
  },
  {
   "cell_type": "code",
   "execution_count": 5,
   "metadata": {},
   "outputs": [
    {
     "name": "stdout",
     "output_type": "stream",
     "text": [
      "1-conv-32-nodes-0-dense-1561487556\n",
      "2-conv-32-nodes-0-dense-1561487556\n",
      "3-conv-32-nodes-0-dense-1561487556\n",
      "1-conv-64-nodes-0-dense-1561487556\n",
      "2-conv-64-nodes-0-dense-1561487556\n",
      "3-conv-64-nodes-0-dense-1561487556\n",
      "1-conv-128-nodes-0-dense-1561487556\n",
      "2-conv-128-nodes-0-dense-1561487556\n",
      "3-conv-128-nodes-0-dense-1561487556\n",
      "1-conv-32-nodes-1-dense-1561487556\n",
      "2-conv-32-nodes-1-dense-1561487556\n",
      "3-conv-32-nodes-1-dense-1561487556\n",
      "1-conv-64-nodes-1-dense-1561487556\n",
      "2-conv-64-nodes-1-dense-1561487556\n",
      "3-conv-64-nodes-1-dense-1561487556\n",
      "1-conv-128-nodes-1-dense-1561487556\n",
      "2-conv-128-nodes-1-dense-1561487556\n",
      "3-conv-128-nodes-1-dense-1561487556\n",
      "1-conv-32-nodes-2-dense-1561487556\n",
      "2-conv-32-nodes-2-dense-1561487556\n",
      "3-conv-32-nodes-2-dense-1561487556\n",
      "1-conv-64-nodes-2-dense-1561487556\n",
      "2-conv-64-nodes-2-dense-1561487556\n",
      "3-conv-64-nodes-2-dense-1561487556\n",
      "1-conv-128-nodes-2-dense-1561487556\n",
      "2-conv-128-nodes-2-dense-1561487556\n",
      "3-conv-128-nodes-2-dense-1561487556\n"
     ]
    }
   ],
   "source": [
    "import time\n",
    "from keras.models import Sequential\n",
    "from keras.layers import Dense, Activation\n",
    "\n",
    "dense_layers = [0, 1, 2]\n",
    "layer_sizes = [32, 64, 128] #these particular numbers are conventionally chosen\n",
    "conv_layers = [1, 2, 3] #we've found that 2 is successful\n",
    "\n",
    "for dense_layer in dense_layers:\n",
    "    for layer_size in layer_sizes:\n",
    "        for conv_layer in conv_layers: #so we're iterating 3 x 3 x 3\n",
    "            NAME = \"{}-conv-{}-nodes-{}-dense-{}\".format(conv_layer, layer_size, dense_layer, int(time.time()))\n",
    "            print(NAME)\n",
    "            model = Sequential()\n",
    "            \n",
    "            model.add(Conv2D(64, (3, 3), input_shape=X.shape[1:]))\n",
    "            model.add(Activation('relu'))\n",
    "            model.add(MaxPooling2D(pool_size=(2, 2)))\n",
    "            \n",
    "            for l in range(conv_layer-1):\n",
    "                model.add(Conv2D(64, (3, 3)))\n",
    "                model.add(Activation('relu'))\n",
    "                model.add(MaxPooling2D(pool_size=(2,2)))\n",
    "            \n",
    "            model.add(Flatten())\n",
    "            for l "
   ]
  },
  {
   "cell_type": "code",
   "execution_count": null,
   "metadata": {},
   "outputs": [],
   "source": [
    "#so now let's define our model itself!"
   ]
  }
 ],
 "metadata": {
  "kernelspec": {
   "display_name": "Python 3",
   "language": "python",
   "name": "python3"
  },
  "language_info": {
   "codemirror_mode": {
    "name": "ipython",
    "version": 3
   },
   "file_extension": ".py",
   "mimetype": "text/x-python",
   "name": "python",
   "nbconvert_exporter": "python",
   "pygments_lexer": "ipython3",
   "version": "3.7.1"
  }
 },
 "nbformat": 4,
 "nbformat_minor": 2
}
