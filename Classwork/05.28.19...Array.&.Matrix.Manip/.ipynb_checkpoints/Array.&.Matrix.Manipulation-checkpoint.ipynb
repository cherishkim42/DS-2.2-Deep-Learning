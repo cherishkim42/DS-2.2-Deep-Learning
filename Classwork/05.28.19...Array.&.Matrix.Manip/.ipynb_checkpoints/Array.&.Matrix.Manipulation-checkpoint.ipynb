{
 "cells": [
  {
   "cell_type": "markdown",
   "metadata": {},
   "source": [
    "# 🤔 Array & Matrix Manipulation 🤔"
   ]
  },
  {
   "cell_type": "markdown",
   "metadata": {},
   "source": [
    "# 📚 Intro📚\n",
    "\n",
    "*Why Neural Net and Deep Learning?*\n",
    "\n",
    "1. DL can take in features like ML, but can obtain more sophisticated decision boundary or regression surface\n",
    "1. Is capable of extracting features (from image, voice/music, text)\n",
    "1. Tex & features combine into a single… blob… thing, which is used to yield the result\n",
    "1. Much, much better performance with higher amounts of data, whereas with ML, the performance plateaus\n",
    "\n",
    "Limitations of machine learning:\n",
    "* Not useful while working with high-dimensional data, i.e. large number of inputs and outputs\n",
    "* Cannot solve crucial aI problems like NLP (Natural Language Processing), image recognition, etc.\n",
    "* The process of **feature extraction** in ML is a big challenge for object/handwriting/etc. recognition\n",
    "* **DEEP LEARNING TO THE RESCUE**\n",
    "    * focus on the correct feaures by themselves with little guidance required from the programmer\n",
    "    * DL models partially solve the dimensionality problem\n",
    "    * DL essentially mimics the human brain\n",
    "    * implemented through **Neural Networks** (think **brain cells**, aka biological neurons!)\n",
    "    \n",
    "**Deep Learning IS:** A collection of statistical ML techniques used to learn feature hierarchies often based on artificial neural networks. Multiple *\"hidden layers\"* at once.\n",
    "\n",
    "Video we watched: https://www.youtube.com/watch?v=dafuAz_CV7Q"
   ]
  },
  {
   "cell_type": "markdown",
   "metadata": {},
   "source": [
    "# 🏹 Vector, Matrix, & Tensor 🏹\n",
    "\n",
    "* **Vector** - 1D tensor\n",
    "* **Matrix** - 2D\n",
    "* **Cube** - 3D - *like RGB! Each pixel has 3 layers for colors*\n",
    "* **Vector of cubes** - 4D tensor\n",
    "* **Matrix of cubes** - 5D tensor"
   ]
  },
  {
   "cell_type": "markdown",
   "metadata": {},
   "source": [
    "### 💚 Make a ```vector``` (a 1D tensor) in ```numpy```!"
   ]
  },
  {
   "cell_type": "code",
   "execution_count": 1,
   "metadata": {},
   "outputs": [
    {
     "name": "stdout",
     "output_type": "stream",
     "text": [
      "Array: [5 2 1]\n",
      "Shape: (3,)     It's a single list with 3 items\n"
     ]
    }
   ],
   "source": [
    "import numpy as np\n",
    "\n",
    "v = np.array([5, 2, 1]) #row vector\n",
    "print('Array: ' + str(v))\n",
    "print('Shape: ' + str(v.shape) + '     It\\'s a single list with 3 items')"
   ]
  },
  {
   "cell_type": "code",
   "execution_count": 2,
   "metadata": {},
   "outputs": [
    {
     "name": "stdout",
     "output_type": "stream",
     "text": [
      "Index 1 of array: 2\n"
     ]
    }
   ],
   "source": [
    "print('Index 1 of array: ' + str(v[1]))\n",
    "# v[1] #Would simply output \"2\""
   ]
  },
  {
   "cell_type": "code",
   "execution_count": 3,
   "metadata": {},
   "outputs": [
    {
     "name": "stdout",
     "output_type": "stream",
     "text": [
      "Array as list of lists: [[5 2 1]]\n",
      "Shape: (1, 3)\n",
      "      I believe (1,3) means: There's 1 list in this list of lists. It has 3 items.\n"
     ]
    }
   ],
   "source": [
    "v = np.array([[5, 2, 1]]) #making a new \"v\" as a LIST OF LISTS\n",
    "print('Array as list of lists: ' + str(v))\n",
    "print('Shape: ' + str(v.shape))\n",
    "print('      I believe (1,3) means: There\\'s 1 list in this list of lists. It has 3 items.')"
   ]
  },
  {
   "cell_type": "code",
   "execution_count": 4,
   "metadata": {},
   "outputs": [
    {
     "name": "stdout",
     "output_type": "stream",
     "text": [
      "Converted FROM row vector TO column vector:\n",
      "[[5]\n",
      " [2]\n",
      " [1]]\n",
      "\n",
      "Shape: (3, 1)\n",
      "      I believe (3,1) means: There are 3 lists in this list of lists. They have 1 item each.\n"
     ]
    }
   ],
   "source": [
    "v_t = np.transpose(v) #convert row vector to column\n",
    "print('Converted FROM row vector TO column vector:')\n",
    "print(v_t)\n",
    "print('')\n",
    "print('Shape: ' + str(v_t.shape))\n",
    "print('      I believe (3,1) means: There are 3 lists in this list of lists. They have 1 item each.')"
   ]
  },
  {
   "cell_type": "markdown",
   "metadata": {},
   "source": [
    "### The following cell will throw an error, because ```v``` is a list of lists, and it only contains 1 list. Thus, it only has stuff stored at index ```0```. You can't access index ```1``` when there is no index ```1```!"
   ]
  },
  {
   "cell_type": "code",
   "execution_count": 5,
   "metadata": {},
   "outputs": [
    {
     "ename": "IndexError",
     "evalue": "index 1 is out of bounds for axis 0 with size 1",
     "output_type": "error",
     "traceback": [
      "\u001b[0;31m---------------------------------------------------------------------------\u001b[0m",
      "\u001b[0;31mIndexError\u001b[0m                                Traceback (most recent call last)",
      "\u001b[0;32m<ipython-input-5-03b046eced1b>\u001b[0m in \u001b[0;36m<module>\u001b[0;34m\u001b[0m\n\u001b[1;32m      1\u001b[0m \u001b[0;31m#This will throw an error:\u001b[0m\u001b[0;34m\u001b[0m\u001b[0;34m\u001b[0m\u001b[0;34m\u001b[0m\u001b[0m\n\u001b[0;32m----> 2\u001b[0;31m \u001b[0mv\u001b[0m\u001b[0;34m[\u001b[0m\u001b[0;36m1\u001b[0m\u001b[0;34m]\u001b[0m\u001b[0;34m\u001b[0m\u001b[0;34m\u001b[0m\u001b[0m\n\u001b[0m",
      "\u001b[0;31mIndexError\u001b[0m: index 1 is out of bounds for axis 0 with size 1"
     ]
    }
   ],
   "source": [
    "#This will throw an error:\n",
    "v[1]"
   ]
  },
  {
   "cell_type": "markdown",
   "metadata": {},
   "source": [
    "### To access whatever is at index ```1``` in the list (which is part of a list of lists)...."
   ]
  },
  {
   "cell_type": "code",
   "execution_count": 6,
   "metadata": {},
   "outputs": [
    {
     "name": "stdout",
     "output_type": "stream",
     "text": [
      "[[5 2 1]]\n",
      "[5 2 1]\n",
      "2\n"
     ]
    }
   ],
   "source": [
    "#See? The RIGHT way\n",
    "print(v)\n",
    "print(v[0])\n",
    "print(v[0][1]) #Here it is. Yes. Here"
   ]
  },
  {
   "cell_type": "markdown",
   "metadata": {},
   "source": [
    "### Nice. Now use 'shape' to show that ```v``` contains a single (1) list with three (3) elements in that list."
   ]
  },
  {
   "cell_type": "code",
   "execution_count": 7,
   "metadata": {},
   "outputs": [
    {
     "data": {
      "text/plain": [
       "(1, 3)"
      ]
     },
     "execution_count": 7,
     "metadata": {},
     "output_type": "execute_result"
    }
   ],
   "source": [
    "v.shape"
   ]
  },
  {
   "cell_type": "markdown",
   "metadata": {},
   "source": [
    "### 💚 Make a ```matrix``` (a 2D tensor) in ```numpy```!"
   ]
  },
  {
   "cell_type": "markdown",
   "metadata": {},
   "source": [
    "So we're making an array that contains **two** lists. Each list contains **three** items.\n",
    "\n",
    "```v.shape``` tells us ^ all that. ```v.size``` multiplies #columns * #rows."
   ]
  },
  {
   "cell_type": "code",
   "execution_count": 8,
   "metadata": {},
   "outputs": [
    {
     "name": "stdout",
     "output_type": "stream",
     "text": [
      "[[1 2 3]\n",
      " [2 0 1]]\n",
      "(2, 3)\n",
      "6\n"
     ]
    }
   ],
   "source": [
    "v = np.array([[1,2,3],[2,0,1]])\n",
    "print(v)\n",
    "print(v.shape)\n",
    "print(v.size)"
   ]
  },
  {
   "cell_type": "markdown",
   "metadata": {},
   "source": [
    "### Aaaand now we're transposing/flipping it for some reason, alright. Now we're getting an array containing *three* lists, each of which contains *two* items."
   ]
  },
  {
   "cell_type": "code",
   "execution_count": 9,
   "metadata": {},
   "outputs": [
    {
     "name": "stdout",
     "output_type": "stream",
     "text": [
      "[[1 2]\n",
      " [2 0]\n",
      " [3 1]]\n",
      "(3, 2)\n",
      "6\n"
     ]
    }
   ],
   "source": [
    "v_t = np.transpose(v)\n",
    "print(v_t)\n",
    "print(v_t.shape)\n",
    "print(v_t.size)"
   ]
  },
  {
   "cell_type": "markdown",
   "metadata": {},
   "source": [
    "### 💚 Arrange or ```reshape``` the ```matrix``` (2D array or 2D tensor)!"
   ]
  },
  {
   "cell_type": "markdown",
   "metadata": {},
   "source": [
    "We're starting with an array containing **two** lists, which contain **three items each.**\n",
    "\n",
    "Same array as the starting matrix used in above mini-activity (each mini-activity is marked by a Markdown cell with green hearts).\n",
    "\n",
    "Reshape the array from **2 rows X 3 cols** into an array with **3 rows X 2 cols** (or, 3 **planes** and 2 **points**).\n",
    "\n",
    "### Reshaping within the same dimension:"
   ]
  },
  {
   "cell_type": "code",
   "execution_count": 10,
   "metadata": {},
   "outputs": [
    {
     "name": "stdout",
     "output_type": "stream",
     "text": [
      "[[1 2]\n",
      " [3 2]\n",
      " [0 1]]\n"
     ]
    }
   ],
   "source": [
    "v = np.array([[1,2,3],[2,0,1]])\n",
    "print(v.reshape(3,2))"
   ]
  },
  {
   "cell_type": "markdown",
   "metadata": {},
   "source": [
    "### But maybe we want to transform our ```matrix``` (2D tensor) into a 3D tensor! Want: ```3``` cubes, each of which has ```1``` plane and ```2``` points on that plane."
   ]
  },
  {
   "cell_type": "code",
   "execution_count": 11,
   "metadata": {},
   "outputs": [
    {
     "name": "stdout",
     "output_type": "stream",
     "text": [
      "[[[1 2]]\n",
      "\n",
      " [[3 2]]\n",
      "\n",
      " [[0 1]]]\n",
      " \n",
      " \n",
      "[[[1 2]]\n",
      "\n",
      " [[3 2]]\n",
      "\n",
      " [[0 1]]]\n"
     ]
    }
   ],
   "source": [
    "print(v.reshape(3,1,2)) #Adds another dimension. 2D tensor to 3D tensor\n",
    "                        #It's saying we have 3 (three) 1x2s\n",
    "print(' ')\n",
    "print(' ')\n",
    "print(v.reshape(-1,1,2))"
   ]
  },
  {
   "cell_type": "markdown",
   "metadata": {},
   "source": [
    "### Notice that the two reshapes above are EXACTLY THE SAME!\n",
    "\n",
    "We are using **three parameters** with ```reshape``` in order to add dimensionality. Here, we are saying that **the second and third parameters are more important.**\n",
    "* Passing in ```-1``` means ```numpy``` will automatically search for the highest dimensionality it can work with.\n",
    "* The ```3``` *just so happens* to be perfect in this circumstance. So when we passed in ```-1```, the number of cubes came out to the same value as when we hard-coded in the pefect value of ```3```.\n",
    "* We can **only** ever ```reshape``` to a new thing with the **same total number of elements** originally present.\n",
    "\n",
    "### Why would we *increase* the dimensionality? Aren't there entire methods built to *reduce* dimensionality so we can work with it? Why would we do this?\n",
    "* Sometimes we need to **shape** the data into a form that a neural network can use.\n",
    "* The data is preserved and nothing is lost; it is merely reshaped so it can be passed in"
   ]
  },
  {
   "cell_type": "markdown",
   "metadata": {},
   "source": [
    "### 💚 Make a ```cube``` (a 3D tensor) in ```numpy```!"
   ]
  },
  {
   "cell_type": "code",
   "execution_count": 12,
   "metadata": {},
   "outputs": [
    {
     "name": "stdout",
     "output_type": "stream",
     "text": [
      "[[[ 1.  2.  3.]\n",
      "  [ 4.  5.  6.]]\n",
      "\n",
      " [[ 7.  8.  9.]\n",
      "  [11. 12. 13.]]]\n",
      "\n",
      "\n",
      "Read output of SHAPE like so: 'We have 2 (two) 2x3 matrices'\n",
      "(2, 2, 3)\n"
     ]
    }
   ],
   "source": [
    "v = np.array([[[1.,2.,3.], [4.,5.,6.]], [[7.,8.,9.], [11.,12.,13.]]])\n",
    "print(v)\n",
    "\n",
    "print('')\n",
    "print('')\n",
    "\n",
    "print('Read output of SHAPE like so: \\'We have 2 (two) 2x3 matrices\\'')\n",
    "print(v.shape)"
   ]
  },
  {
   "cell_type": "markdown",
   "metadata": {},
   "source": [
    "### So we have two matrices. ```v[0]``` is the matrix in front, ```v[1]``` in back.\n",
    "It's a ```cube``` of two matrices stuck together, like a meatless sandwich."
   ]
  },
  {
   "cell_type": "code",
   "execution_count": 13,
   "metadata": {},
   "outputs": [
    {
     "name": "stdout",
     "output_type": "stream",
     "text": [
      "[[1. 2. 3.]\n",
      " [4. 5. 6.]]\n"
     ]
    }
   ],
   "source": [
    "print(v[0])"
   ]
  },
  {
   "cell_type": "code",
   "execution_count": 14,
   "metadata": {},
   "outputs": [
    {
     "name": "stdout",
     "output_type": "stream",
     "text": [
      "[[ 7.  8.  9.]\n",
      " [11. 12. 13.]]\n"
     ]
    }
   ],
   "source": [
    "print(v[1])"
   ]
  },
  {
   "cell_type": "markdown",
   "metadata": {},
   "source": [
    "### Now this will throw an error. There is no 3rd matrix at index ```2```. Boohoo"
   ]
  },
  {
   "cell_type": "code",
   "execution_count": 15,
   "metadata": {},
   "outputs": [
    {
     "ename": "IndexError",
     "evalue": "index 2 is out of bounds for axis 0 with size 2",
     "output_type": "error",
     "traceback": [
      "\u001b[0;31m---------------------------------------------------------------------------\u001b[0m",
      "\u001b[0;31mIndexError\u001b[0m                                Traceback (most recent call last)",
      "\u001b[0;32m<ipython-input-15-b67d56b4ae17>\u001b[0m in \u001b[0;36m<module>\u001b[0;34m\u001b[0m\n\u001b[0;32m----> 1\u001b[0;31m \u001b[0mprint\u001b[0m\u001b[0;34m(\u001b[0m\u001b[0mv\u001b[0m\u001b[0;34m[\u001b[0m\u001b[0;36m2\u001b[0m\u001b[0;34m]\u001b[0m\u001b[0;34m)\u001b[0m\u001b[0;34m\u001b[0m\u001b[0;34m\u001b[0m\u001b[0m\n\u001b[0m",
      "\u001b[0;31mIndexError\u001b[0m: index 2 is out of bounds for axis 0 with size 2"
     ]
    }
   ],
   "source": [
    "print(v[2])"
   ]
  },
  {
   "cell_type": "markdown",
   "metadata": {},
   "source": [
    "### Let's use ```size``` to check the total number of elements."
   ]
  },
  {
   "cell_type": "code",
   "execution_count": 16,
   "metadata": {},
   "outputs": [
    {
     "name": "stdout",
     "output_type": "stream",
     "text": [
      "12\n"
     ]
    }
   ],
   "source": [
    "print(v.size) #number of elements"
   ]
  },
  {
   "cell_type": "markdown",
   "metadata": {},
   "source": [
    "### Let's ```reshape``` to ... ```3``` layers, each of which has... ```2``` rows/planes, and ...however many points per plane that ```numpy``` deems best. So, params are ```3, 2, -1```!"
   ]
  },
  {
   "cell_type": "code",
   "execution_count": 17,
   "metadata": {},
   "outputs": [
    {
     "name": "stdout",
     "output_type": "stream",
     "text": [
      "[[[ 1.  2.]\n",
      "  [ 3.  4.]]\n",
      "\n",
      " [[ 5.  6.]\n",
      "  [ 7.  8.]]\n",
      "\n",
      " [[ 9. 11.]\n",
      "  [12. 13.]]]\n"
     ]
    }
   ],
   "source": [
    "print(v.reshape(3,2,-1))"
   ]
  },
  {
   "cell_type": "markdown",
   "metadata": {},
   "source": [
    "### 💚 Make a 2D tensor into 1D!"
   ]
  },
  {
   "cell_type": "code",
   "execution_count": 18,
   "metadata": {},
   "outputs": [
    {
     "name": "stdout",
     "output_type": "stream",
     "text": [
      "[[[ 1.  2.  3.]\n",
      "  [ 4.  5.  6.]]\n",
      "\n",
      " [[ 7.  8.  9.]\n",
      "  [11. 12. 13.]]]\n",
      "\n",
      "Shape: (2, 2, 3)\n",
      "Verified: This is 2D. Look @ that first param. Awh yeah.\n"
     ]
    }
   ],
   "source": [
    "v = np.array([[[1.,2.,3.], [4.,5.,6.]], [[7.,8.,9.], [11.,12.,13.]]])\n",
    "print(v)\n",
    "print('')\n",
    "print('Shape: ' + str(v.shape))\n",
    "print('Verified: This is 2D. Look @ that first param. Awh yeah.')"
   ]
  },
  {
   "cell_type": "markdown",
   "metadata": {},
   "source": [
    "### The first param of ```reshape``` is the desired dimensionality. The second and third are #planes(rows) and #points(cols). We were told in-class that the latter two params were 4 and 3. That's how I know to pass that in below:"
   ]
  },
  {
   "cell_type": "code",
   "execution_count": 19,
   "metadata": {},
   "outputs": [
    {
     "name": "stdout",
     "output_type": "stream",
     "text": [
      "[[[ 1.  2.  3.]\n",
      "  [ 4.  5.  6.]\n",
      "  [ 7.  8.  9.]\n",
      "  [11. 12. 13.]]]\n",
      "\n",
      "Shape: (1, 4, 3)\n",
      "Verified: This is 1D. Look @ that first param. Awh YEAH.\n"
     ]
    }
   ],
   "source": [
    "print(v.reshape(1,4,3))\n",
    "print('')\n",
    "print('Shape: ' + str(v.reshape(1,4,3).shape))\n",
    "print('Verified: This is 1D. Look @ that first param. Awh YEAH.')"
   ]
  },
  {
   "cell_type": "markdown",
   "metadata": {},
   "source": [
    "### Passing in ```-1``` for a param out of curiosity"
   ]
  },
  {
   "cell_type": "code",
   "execution_count": 20,
   "metadata": {},
   "outputs": [
    {
     "name": "stdout",
     "output_type": "stream",
     "text": [
      "[[[ 1.  2.  3.]\n",
      "  [ 4.  5.  6.]\n",
      "  [ 7.  8.  9.]\n",
      "  [11. 12. 13.]]]\n",
      "\n",
      "Shape: (1, 4, 3)\n"
     ]
    }
   ],
   "source": [
    "print(v.reshape(-1,4,3))\n",
    "print('')\n",
    "print('Shape: ' + str(v.reshape(-1,4,3).shape))"
   ]
  },
  {
   "cell_type": "markdown",
   "metadata": {},
   "source": [
    "### This'll throw an error. You can't pass in ```-1``` for multiple parameters in ```reshape```."
   ]
  },
  {
   "cell_type": "code",
   "execution_count": 21,
   "metadata": {},
   "outputs": [
    {
     "ename": "ValueError",
     "evalue": "can only specify one unknown dimension",
     "output_type": "error",
     "traceback": [
      "\u001b[0;31m---------------------------------------------------------------------------\u001b[0m",
      "\u001b[0;31mValueError\u001b[0m                                Traceback (most recent call last)",
      "\u001b[0;32m<ipython-input-21-fc2004ff9e46>\u001b[0m in \u001b[0;36m<module>\u001b[0;34m\u001b[0m\n\u001b[0;32m----> 1\u001b[0;31m \u001b[0mprint\u001b[0m\u001b[0;34m(\u001b[0m\u001b[0mv\u001b[0m\u001b[0;34m.\u001b[0m\u001b[0mreshape\u001b[0m\u001b[0;34m(\u001b[0m\u001b[0;36m1\u001b[0m\u001b[0;34m,\u001b[0m\u001b[0;34m-\u001b[0m\u001b[0;36m1\u001b[0m\u001b[0;34m,\u001b[0m\u001b[0;34m-\u001b[0m\u001b[0;36m1\u001b[0m\u001b[0;34m)\u001b[0m\u001b[0;34m)\u001b[0m\u001b[0;34m\u001b[0m\u001b[0;34m\u001b[0m\u001b[0m\n\u001b[0m\u001b[1;32m      2\u001b[0m \u001b[0mprint\u001b[0m\u001b[0;34m(\u001b[0m\u001b[0;34m''\u001b[0m\u001b[0;34m)\u001b[0m\u001b[0;34m\u001b[0m\u001b[0;34m\u001b[0m\u001b[0m\n\u001b[1;32m      3\u001b[0m \u001b[0mprint\u001b[0m\u001b[0;34m(\u001b[0m\u001b[0;34m'Shape: '\u001b[0m \u001b[0;34m+\u001b[0m \u001b[0mstr\u001b[0m\u001b[0;34m(\u001b[0m\u001b[0mv\u001b[0m\u001b[0;34m.\u001b[0m\u001b[0mreshape\u001b[0m\u001b[0;34m(\u001b[0m\u001b[0;36m1\u001b[0m\u001b[0;34m,\u001b[0m\u001b[0;34m-\u001b[0m\u001b[0;36m1\u001b[0m\u001b[0;34m,\u001b[0m\u001b[0;34m-\u001b[0m\u001b[0;36m1\u001b[0m\u001b[0;34m)\u001b[0m\u001b[0;34m.\u001b[0m\u001b[0mshape\u001b[0m\u001b[0;34m)\u001b[0m\u001b[0;34m)\u001b[0m\u001b[0;34m\u001b[0m\u001b[0;34m\u001b[0m\u001b[0m\n",
      "\u001b[0;31mValueError\u001b[0m: can only specify one unknown dimension"
     ]
    }
   ],
   "source": [
    "print(v.reshape(1,-1,-1))\n",
    "print('')\n",
    "print('Shape: ' + str(v.reshape(1,-1,-1).shape))"
   ]
  },
  {
   "cell_type": "markdown",
   "metadata": {},
   "source": [
    "### 💚 Make a 4D tensor in ```numpy```"
   ]
  },
  {
   "cell_type": "markdown",
   "metadata": {},
   "source": [
    "### The params say: ```2``` cubes with ```3``` layered matrices each, W x L of ```5```x```5```."
   ]
  },
  {
   "cell_type": "code",
   "execution_count": 22,
   "metadata": {},
   "outputs": [
    {
     "name": "stdout",
     "output_type": "stream",
     "text": [
      "[[[[0. 0. 0. 0. 0.]\n",
      "   [0. 0. 0. 0. 0.]\n",
      "   [0. 0. 0. 0. 0.]\n",
      "   [0. 0. 0. 0. 0.]\n",
      "   [0. 0. 0. 0. 0.]]\n",
      "\n",
      "  [[0. 0. 0. 0. 0.]\n",
      "   [0. 0. 0. 0. 0.]\n",
      "   [0. 0. 0. 0. 0.]\n",
      "   [0. 0. 0. 0. 0.]\n",
      "   [0. 0. 0. 0. 0.]]\n",
      "\n",
      "  [[0. 0. 0. 0. 0.]\n",
      "   [0. 0. 0. 0. 0.]\n",
      "   [0. 0. 0. 0. 0.]\n",
      "   [0. 0. 0. 0. 0.]\n",
      "   [0. 0. 0. 0. 0.]]]\n",
      "\n",
      "\n",
      " [[[0. 0. 0. 0. 0.]\n",
      "   [0. 0. 0. 0. 0.]\n",
      "   [0. 0. 0. 0. 0.]\n",
      "   [0. 0. 0. 0. 0.]\n",
      "   [0. 0. 0. 0. 0.]]\n",
      "\n",
      "  [[0. 0. 0. 0. 0.]\n",
      "   [0. 0. 0. 0. 0.]\n",
      "   [0. 0. 0. 0. 0.]\n",
      "   [0. 0. 0. 0. 0.]\n",
      "   [0. 0. 0. 0. 0.]]\n",
      "\n",
      "  [[0. 0. 0. 0. 0.]\n",
      "   [0. 0. 0. 0. 0.]\n",
      "   [0. 0. 0. 0. 0.]\n",
      "   [0. 0. 0. 0. 0.]\n",
      "   [0. 0. 0. 0. 0.]]]]\n",
      "\n",
      "Shape: (2, 3, 5, 5)\n"
     ]
    }
   ],
   "source": [
    "v = np.zeros((2, 3, 5, 5))\n",
    "print(v)\n",
    "print('')\n",
    "print('Shape: ' + str(v.shape))"
   ]
  },
  {
   "cell_type": "markdown",
   "metadata": {},
   "source": [
    "### 💚 Make a 5D tensor in ```numpy```"
   ]
  },
  {
   "cell_type": "markdown",
   "metadata": {},
   "source": [
    "### The params say: ```2```x```2``` matrix of cubes. ```3``` layered matrices per cube. W x L of ```5```x```5```.\n",
    "### Each individual element of this glorious monstrosity is a 3D tensor (a ```cube```, more specifically)"
   ]
  },
  {
   "cell_type": "code",
   "execution_count": 23,
   "metadata": {},
   "outputs": [
    {
     "name": "stdout",
     "output_type": "stream",
     "text": [
      "[[[[[0. 0. 0. 0. 0.]\n",
      "    [0. 0. 0. 0. 0.]\n",
      "    [0. 0. 0. 0. 0.]\n",
      "    [0. 0. 0. 0. 0.]\n",
      "    [0. 0. 0. 0. 0.]]\n",
      "\n",
      "   [[0. 0. 0. 0. 0.]\n",
      "    [0. 0. 0. 0. 0.]\n",
      "    [0. 0. 0. 0. 0.]\n",
      "    [0. 0. 0. 0. 0.]\n",
      "    [0. 0. 0. 0. 0.]]\n",
      "\n",
      "   [[0. 0. 0. 0. 0.]\n",
      "    [0. 0. 0. 0. 0.]\n",
      "    [0. 0. 0. 0. 0.]\n",
      "    [0. 0. 0. 0. 0.]\n",
      "    [0. 0. 0. 0. 0.]]]\n",
      "\n",
      "\n",
      "  [[[0. 0. 0. 0. 0.]\n",
      "    [0. 0. 0. 0. 0.]\n",
      "    [0. 0. 0. 0. 0.]\n",
      "    [0. 0. 0. 0. 0.]\n",
      "    [0. 0. 0. 0. 0.]]\n",
      "\n",
      "   [[0. 0. 0. 0. 0.]\n",
      "    [0. 0. 0. 0. 0.]\n",
      "    [0. 0. 0. 0. 0.]\n",
      "    [0. 0. 0. 0. 0.]\n",
      "    [0. 0. 0. 0. 0.]]\n",
      "\n",
      "   [[0. 0. 0. 0. 0.]\n",
      "    [0. 0. 0. 0. 0.]\n",
      "    [0. 0. 0. 0. 0.]\n",
      "    [0. 0. 0. 0. 0.]\n",
      "    [0. 0. 0. 0. 0.]]]]\n",
      "\n",
      "\n",
      "\n",
      " [[[[0. 0. 0. 0. 0.]\n",
      "    [0. 0. 0. 0. 0.]\n",
      "    [0. 0. 0. 0. 0.]\n",
      "    [0. 0. 0. 0. 0.]\n",
      "    [0. 0. 0. 0. 0.]]\n",
      "\n",
      "   [[0. 0. 0. 0. 0.]\n",
      "    [0. 0. 0. 0. 0.]\n",
      "    [0. 0. 0. 0. 0.]\n",
      "    [0. 0. 0. 0. 0.]\n",
      "    [0. 0. 0. 0. 0.]]\n",
      "\n",
      "   [[0. 0. 0. 0. 0.]\n",
      "    [0. 0. 0. 0. 0.]\n",
      "    [0. 0. 0. 0. 0.]\n",
      "    [0. 0. 0. 0. 0.]\n",
      "    [0. 0. 0. 0. 0.]]]\n",
      "\n",
      "\n",
      "  [[[0. 0. 0. 0. 0.]\n",
      "    [0. 0. 0. 0. 0.]\n",
      "    [0. 0. 0. 0. 0.]\n",
      "    [0. 0. 0. 0. 0.]\n",
      "    [0. 0. 0. 0. 0.]]\n",
      "\n",
      "   [[0. 0. 0. 0. 0.]\n",
      "    [0. 0. 0. 0. 0.]\n",
      "    [0. 0. 0. 0. 0.]\n",
      "    [0. 0. 0. 0. 0.]\n",
      "    [0. 0. 0. 0. 0.]]\n",
      "\n",
      "   [[0. 0. 0. 0. 0.]\n",
      "    [0. 0. 0. 0. 0.]\n",
      "    [0. 0. 0. 0. 0.]\n",
      "    [0. 0. 0. 0. 0.]\n",
      "    [0. 0. 0. 0. 0.]]]]]\n",
      "\n",
      "(3, 5, 5)\n",
      "(3, 5, 5)\n",
      "(3, 5, 5)\n",
      "(3, 5, 5)\n"
     ]
    }
   ],
   "source": [
    "v = np.zeros((2, 2, 3, 5, 5))\n",
    "print(v)\n",
    "print('')\n",
    "print(v[0][0].shape) #3*5*5\n",
    "print(v[0][1].shape) #same for all\n",
    "print(v[1][0].shape)\n",
    "print(v[1][1].shape)"
   ]
  },
  {
   "cell_type": "markdown",
   "metadata": {},
   "source": [
    "# #️⃣ Matrix Multiplication #️⃣\n",
    "**Great source:** https://www.khanacademy.org/math/precalculus/precalc-matrices/properties-of-matrix-multiplication/a/properties-of-matrix-multiplication"
   ]
  },
  {
   "cell_type": "markdown",
   "metadata": {},
   "source": [
    "### 💚 Basics"
   ]
  },
  {
   "cell_type": "code",
   "execution_count": 24,
   "metadata": {},
   "outputs": [
    {
     "name": "stdout",
     "output_type": "stream",
     "text": [
      "[[29 11]\n",
      " [11  5]]\n"
     ]
    }
   ],
   "source": [
    "a = np.array([[4, 2, 3],[2, 0, 1]])\n",
    "\n",
    "b = np.transpose(a) #convert row vector to column\n",
    "\n",
    "c = np.dot(a,b)\n",
    "\n",
    "print(c)"
   ]
  },
  {
   "cell_type": "markdown",
   "metadata": {},
   "source": [
    "### 💚 Pseudo inverse of non-squared matrix"
   ]
  },
  {
   "cell_type": "code",
   "execution_count": 25,
   "metadata": {},
   "outputs": [
    {
     "name": "stdout",
     "output_type": "stream",
     "text": [
      "[[-0.08333333  0.58333333]\n",
      " [ 0.41666667 -0.91666667]\n",
      " [ 0.16666667 -0.16666667]]\n",
      "\n",
      "[[ 1.00000000e+00  7.77156117e-16]\n",
      " [-2.77555756e-17  1.00000000e+00]]\n",
      "\n",
      "[[ 0.83333333 -0.16666667  0.33333333]\n",
      " [-0.16666667  0.83333333  0.33333333]\n",
      " [ 0.33333333  0.33333333  0.33333333]]\n"
     ]
    }
   ],
   "source": [
    "pinv_a = np.linalg.pinv(a)\n",
    "\n",
    "print(pinv_a)\n",
    "print('')\n",
    "print(np.dot(a, pinv_a))\n",
    "print('')\n",
    "print(np.dot(pinv_a, a))"
   ]
  },
  {
   "cell_type": "markdown",
   "metadata": {},
   "source": [
    "Ooookay I have no idea wtf that stuff is. The main takeaway is as follows:\n",
    "* Matrix multiplication is **not commutative**."
   ]
  },
  {
   "cell_type": "markdown",
   "metadata": {},
   "source": [
    "### 💚 Element-wise multiplication of matrix"
   ]
  },
  {
   "cell_type": "code",
   "execution_count": 26,
   "metadata": {},
   "outputs": [
    {
     "name": "stdout",
     "output_type": "stream",
     "text": [
      "[[ 5 12]\n",
      " [21 32]]\n",
      "[[ 5 12]\n",
      " [21 32]]\n",
      "[[ 5 12]\n",
      " [21 32]]\n",
      "[[ 5 12]\n",
      " [21 32]]\n"
     ]
    }
   ],
   "source": [
    "a = np.array([[1, 2],[3, 4]])\n",
    "b = np.array([[5, 6],[7, 8]])\n",
    "print(np.multiply(a,b))\n",
    "print(np.multiply(b,a))\n",
    "print(a*b)\n",
    "print(b*a)"
   ]
  },
  {
   "cell_type": "code",
   "execution_count": null,
   "metadata": {},
   "outputs": [],
   "source": []
  }
 ],
 "metadata": {
  "kernelspec": {
   "display_name": "Python 3",
   "language": "python",
   "name": "python3"
  },
  "language_info": {
   "codemirror_mode": {
    "name": "ipython",
    "version": 3
   },
   "file_extension": ".py",
   "mimetype": "text/x-python",
   "name": "python",
   "nbconvert_exporter": "python",
   "pygments_lexer": "ipython3",
   "version": "3.7.1"
  }
 },
 "nbformat": 4,
 "nbformat_minor": 2
}
